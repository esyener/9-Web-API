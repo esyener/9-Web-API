{
 "cells": [
  {
   "cell_type": "markdown",
   "metadata": {},
   "source": [
    "# Web APIs\n",
    "\n",
    "## 1. Consuming Web APIs\n",
    "\n",
    "(Partially adapted from https://www.dataquest.io/blog/python-api-tutorial/)\n",
    "\n",
    "* https://randomuser.me/ is a random user generator \n",
    "*\tIt has an API. Go to https://api.randomuser.me/ with your browser\n",
    "*\tYou get a JSON (JavaScript Object Notation) back. A JSON is similar to a Python dictionary.  \n",
    "*  Refresh the browser\n",
    "*\tYou can add query parameters. They are added to the URL with a ? . You then add then the parameter name = the value. More the one parameter are connected with a & e.g.\n",
    "\thttp://api.open-notify.org/iss-pass.json?lat=37.78&lon=-122.41\n",
    "\n",
    "*\t Go the documentation https://randomuser.me/documentation and check how you can get multiple users and to specify constraints on the output\n",
    "*\tGo to your browser and add parameters to https://api.randomuser.me/ so that you get 5 results of only males from the US\n",
    "\n",
    "Enter the URL of your solution:"
   ]
  },
  {
   "cell_type": "code",
   "execution_count": 32,
   "metadata": {},
   "outputs": [],
   "source": [
    "# TODO: get 5 results of only males from the US\n",
    "# Enter the URL of your solution:\n",
    "url = \"https://api.randomuser.me/?gender=male&nat=us&results=5\""
   ]
  },
  {
   "cell_type": "markdown",
   "metadata": {},
   "source": [
    "* You can also get the data from the command line. Open the command line and write\n",
    "\n",
    "```bash\n",
    "curl -s https://api.randomuser.me/\n",
    "```\n",
    "\n",
    "You can also run Bash commands directly in your Jupyter Notebook with !:"
   ]
  },
  {
   "cell_type": "code",
   "execution_count": 33,
   "metadata": {},
   "outputs": [
    {
     "name": "stdout",
     "output_type": "stream",
     "text": [
      "{\"results\":[{\"gender\":\"female\",\"name\":{\"title\":\"mrs\",\"first\":\"lilja\",\"last\":\"wainio\"},\"location\":{\"street\":\"8032 itsenÃ¤isyydenkatu\",\"city\":\"turku\",\"state\":\"lapland\",\"postcode\":90279,\"coordinates\":{\"latitude\":\"-7.1704\",\"longitude\":\"149.1612\"},\"timezone\":{\"offset\":\"+5:45\",\"description\":\"Kathmandu\"}},\"email\":\"lilja.wainio@example.com\",\"login\":{\"uuid\":\"7f6bc4e4-ec0d-4062-9a6a-074600ad72bc\",\"username\":\"redbird532\",\"password\":\"heat\",\"salt\":\"Xc2aAkJN\",\"md5\":\"0d4066cd08ac5961405273940341f6f0\",\"sha1\":\"65bea22515bee4a6356f01791f015b004bfe88c4\",\"sha256\":\"180710d7dce3571e6cdca9b91ce0c79f8303afec004efe0cfcd1866d7a95e5db\"},\"dob\":{\"date\":\"1958-12-17T22:00:55Z\",\"age\":60},\"registered\":{\"date\":\"2008-05-09T23:47:38Z\",\"age\":10},\"phone\":\"02-684-177\",\"cell\":\"049-492-71-15\",\"id\":{\"name\":\"HETU\",\"value\":\"NaNNA464undefined\"},\"picture\":{\"large\":\"https://randomuser.me/api/portraits/women/0.jpg\",\"medium\":\"https://randomuser.me/api/portraits/med/women/0.jpg\",\"thumbnail\":\"https://randomuser.me/api/portraits/thumb/women/0.jpg\"},\"nat\":\"FI\"}],\"info\":{\"seed\":\"340bd776a3cf3e10\",\"results\":1,\"page\":1,\"version\":\"1.2\"}}\n"
     ]
    }
   ],
   "source": [
    "!curl -s https://api.randomuser.me/"
   ]
  },
  {
   "cell_type": "markdown",
   "metadata": {},
   "source": [
    "* Import the two libraries \n",
    "    * `requests` and \n",
    "    * `json`. \n",
    "\n",
    "You can find the documentation for the requests package here:\n",
    " http://www.python-requests.org/en/latest/ \n",
    " "
   ]
  },
  {
   "cell_type": "code",
   "execution_count": 34,
   "metadata": {},
   "outputs": [],
   "source": [
    "# TODO\n",
    "import json\n",
    "import requests"
   ]
  },
  {
   "cell_type": "markdown",
   "metadata": {},
   "source": [
    "* With the requests package you can call a Web API with the URL and the method get"
   ]
  },
  {
   "cell_type": "code",
   "execution_count": 35,
   "metadata": {},
   "outputs": [],
   "source": [
    "response = requests.get(\"https://api.randomuser.me/\")"
   ]
  },
  {
   "cell_type": "markdown",
   "metadata": {},
   "source": [
    "* Print the status code of the request"
   ]
  },
  {
   "cell_type": "code",
   "execution_count": 36,
   "metadata": {},
   "outputs": [
    {
     "name": "stdout",
     "output_type": "stream",
     "text": [
      "200\n"
     ]
    }
   ],
   "source": [
    "print(response.status_code)"
   ]
  },
  {
   "cell_type": "markdown",
   "metadata": {},
   "source": [
    "**The meaning of the status codes are:**\n",
    "* 200: everything went okay, and the result has been returned (if any)\n",
    "* 301: the server is redirecting you to a different endpoint. This can happen when a company switches domain names, or an endpoint name is changed.\n",
    "* 401: the server thinks you're not authenticated. This happens when you don't send the right credentials to access an API.\n",
    "* 400: the server thinks you made a bad request. This can happen when you don't send along the right data, among other things.\n",
    "* 403: the resource you're trying to access is forbidden – you don't have the right permissions to see it.\n",
    "* 404: the resource you tried to access wasn't found on the server.\n"
   ]
  },
  {
   "cell_type": "markdown",
   "metadata": {},
   "source": [
    "You can specify the query parameters for a URL with a Python dictionary like this:\n",
    "```python\n",
    "parameters = {\"lat\": 37.78, \"lon\": -122.41}\n",
    "```\n",
    "\n",
    "And pass the parameter to the request like this\n",
    "```python\n",
    "response = requests.get(\"http://api.open-notify.org/iss-pass.json\", params=parameters)\n",
    "```\n",
    "This is the same as \n",
    "```python\n",
    "response = requests.get(\"http://api.open-notify.org/iss-pass.json?lat=37.78&lon=-122.41\")\n",
    "```\n",
    "\n",
    "Alternatively you could build also the URL with the parameters by yourself with string concatenation. \n",
    "\n",
    "* Get with the request method 10 results of only males from the US.\n",
    "\n"
   ]
  },
  {
   "cell_type": "code",
   "execution_count": 37,
   "metadata": {},
   "outputs": [],
   "source": [
    "# TODO: Get with the request method 10 results of only males from the US.\n",
    "parameters = {\"gender\": \"male\", \"nat\": \"us\", \"results\":5}\n",
    "response = requests.get(\"https://api.randomuser.me/\", params=parameters)"
   ]
  },
  {
   "cell_type": "markdown",
   "metadata": {},
   "source": [
    "* You can show the result of the request with the method text"
   ]
  },
  {
   "cell_type": "code",
   "execution_count": 38,
   "metadata": {
    "scrolled": true
   },
   "outputs": [
    {
     "data": {
      "text/plain": [
       "'{\"results\":[{\"gender\":\"male\",\"name\":{\"title\":\"mr\",\"first\":\"alfredo\",\"last\":\"bates\"},\"location\":{\"street\":\"5150 oak lawn ave\",\"city\":\"omaha\",\"state\":\"new jersey\",\"postcode\":34026,\"coordinates\":{\"latitude\":\"70.6020\",\"longitude\":\"-168.5339\"},\"timezone\":{\"offset\":\"+11:00\",\"description\":\"Magadan, Solomon Islands, New Caledonia\"}},\"email\":\"alfredo.bates@example.com\",\"login\":{\"uuid\":\"0f88a948-7a67-40ad-910c-4b2e7f8fb667\",\"username\":\"beautifulbear827\",\"password\":\"access\",\"salt\":\"IDQyBbNY\",\"md5\":\"943a5489c982c1a5d04e5208eddb5651\",\"sha1\":\"e41d9c8d1952fb7a5721a09dd0d4544c64d41bc6\",\"sha256\":\"85303bf3b258fef480a919348071f47aa4e14b3aa06972511615a630f5d92b8e\"},\"dob\":{\"date\":\"1960-05-01T11:13:45Z\",\"age\":58},\"registered\":{\"date\":\"2013-11-10T13:27:51Z\",\"age\":5},\"phone\":\"(949)-596-3442\",\"cell\":\"(077)-390-1569\",\"id\":{\"name\":\"SSN\",\"value\":\"969-51-8957\"},\"picture\":{\"large\":\"https://randomuser.me/api/portraits/men/13.jpg\",\"medium\":\"https://randomuser.me/api/portraits/med/men/13.jpg\",\"thumbnail\":\"https://randomuser.me/api/portraits/thumb/men/13.jpg\"},\"nat\":\"US\"},{\"gender\":\"male\",\"name\":{\"title\":\"mr\",\"first\":\"anthony\",\"last\":\"simmmons\"},\"location\":{\"street\":\"856 brown terrace\",\"city\":\"birmingham\",\"state\":\"alaska\",\"postcode\":78864,\"coordinates\":{\"latitude\":\"-38.8223\",\"longitude\":\"-169.7443\"},\"timezone\":{\"offset\":\"+3:00\",\"description\":\"Baghdad, Riyadh, Moscow, St. Petersburg\"}},\"email\":\"anthony.simmmons@example.com\",\"login\":{\"uuid\":\"bb5f028a-feae-482d-a8b6-0d81010cdcd6\",\"username\":\"bluekoala105\",\"password\":\"shower\",\"salt\":\"2W1zKvtc\",\"md5\":\"c38f5f27b2a53a99c0c3f2aa7d9c2f07\",\"sha1\":\"1746c7456491c43fef293403e98da101a4b87cfb\",\"sha256\":\"06c6560a9254b1286054c41da2fd7c5900be74a06a5243d17bc1b0e599a08bc6\"},\"dob\":{\"date\":\"1952-12-12T10:34:04Z\",\"age\":66},\"registered\":{\"date\":\"2007-05-19T13:11:22Z\",\"age\":11},\"phone\":\"(564)-507-3051\",\"cell\":\"(894)-172-8412\",\"id\":{\"name\":\"SSN\",\"value\":\"847-73-4092\"},\"picture\":{\"large\":\"https://randomuser.me/api/portraits/men/52.jpg\",\"medium\":\"https://randomuser.me/api/portraits/med/men/52.jpg\",\"thumbnail\":\"https://randomuser.me/api/portraits/thumb/men/52.jpg\"},\"nat\":\"US\"},{\"gender\":\"male\",\"name\":{\"title\":\"mr\",\"first\":\"frederick\",\"last\":\"arnold\"},\"location\":{\"street\":\"4618 james st\",\"city\":\"brownsville\",\"state\":\"california\",\"postcode\":43937,\"coordinates\":{\"latitude\":\"16.4514\",\"longitude\":\"-57.7018\"},\"timezone\":{\"offset\":\"+10:00\",\"description\":\"Eastern Australia, Guam, Vladivostok\"}},\"email\":\"frederick.arnold@example.com\",\"login\":{\"uuid\":\"40c37025-8897-490b-8082-df72b3d714e7\",\"username\":\"heavybird774\",\"password\":\"punisher\",\"salt\":\"1d4iFR6J\",\"md5\":\"00cc1d074e7145f66e60e74a7bedfa4f\",\"sha1\":\"8674ec08a2754c1e97e23b5eb1c0816eb4b1ac25\",\"sha256\":\"07824bdb9792afe1e876122340bb26fa922fff0f9b977cf3ed01b1319421dbd4\"},\"dob\":{\"date\":\"1981-03-22T15:24:23Z\",\"age\":38},\"registered\":{\"date\":\"2014-10-03T09:37:27Z\",\"age\":4},\"phone\":\"(170)-252-9077\",\"cell\":\"(418)-424-3795\",\"id\":{\"name\":\"SSN\",\"value\":\"400-37-1846\"},\"picture\":{\"large\":\"https://randomuser.me/api/portraits/men/6.jpg\",\"medium\":\"https://randomuser.me/api/portraits/med/men/6.jpg\",\"thumbnail\":\"https://randomuser.me/api/portraits/thumb/men/6.jpg\"},\"nat\":\"US\"},{\"gender\":\"male\",\"name\":{\"title\":\"mr\",\"first\":\"franklin\",\"last\":\"day\"},\"location\":{\"street\":\"7450 pecan acres ln\",\"city\":\"tucson\",\"state\":\"south carolina\",\"postcode\":45491,\"coordinates\":{\"latitude\":\"46.1042\",\"longitude\":\"80.5951\"},\"timezone\":{\"offset\":\"+3:30\",\"description\":\"Tehran\"}},\"email\":\"franklin.day@example.com\",\"login\":{\"uuid\":\"660f4150-f761-416d-8e28-be9b60bbc12c\",\"username\":\"smallsnake855\",\"password\":\"fastball\",\"salt\":\"ZU7uPaEX\",\"md5\":\"74c71ba72a7fd855424f8ddd8b4a7b48\",\"sha1\":\"b523711a5b6ff19fe634df4000992c5661d8d418\",\"sha256\":\"2284faeda57314add1b8abe5b9df212e366dbc38fb661279a3fbed0f96c659a4\"},\"dob\":{\"date\":\"1944-11-09T09:18:14Z\",\"age\":74},\"registered\":{\"date\":\"2016-10-18T03:36:01Z\",\"age\":2},\"phone\":\"(576)-631-9605\",\"cell\":\"(171)-394-1920\",\"id\":{\"name\":\"SSN\",\"value\":\"402-13-9379\"},\"picture\":{\"large\":\"https://randomuser.me/api/portraits/men/27.jpg\",\"medium\":\"https://randomuser.me/api/portraits/med/men/27.jpg\",\"thumbnail\":\"https://randomuser.me/api/portraits/thumb/men/27.jpg\"},\"nat\":\"US\"},{\"gender\":\"male\",\"name\":{\"title\":\"mr\",\"first\":\"harold\",\"last\":\"smith\"},\"location\":{\"street\":\"2878 prospect rd\",\"city\":\"chattanooga\",\"state\":\"connecticut\",\"postcode\":40878,\"coordinates\":{\"latitude\":\"-77.4375\",\"longitude\":\"-73.2254\"},\"timezone\":{\"offset\":\"+8:00\",\"description\":\"Beijing, Perth, Singapore, Hong Kong\"}},\"email\":\"harold.smith@example.com\",\"login\":{\"uuid\":\"94f0cb62-d746-46bf-8700-4b2d795539b9\",\"username\":\"orangepanda858\",\"password\":\"coming\",\"salt\":\"MvhqY70B\",\"md5\":\"f95d5cad5e4a3d26ef3b53674488b82f\",\"sha1\":\"869e930f8c9ebe2119ae2803c5840ce6780315cf\",\"sha256\":\"dbd68ae7417330b7a44daff798fc28ab6f7df831f3cc133552e4619b32bd369c\"},\"dob\":{\"date\":\"1982-11-11T23:05:20Z\",\"age\":36},\"registered\":{\"date\":\"2006-04-28T03:47:27Z\",\"age\":13},\"phone\":\"(535)-840-4308\",\"cell\":\"(346)-860-5358\",\"id\":{\"name\":\"SSN\",\"value\":\"707-49-6789\"},\"picture\":{\"large\":\"https://randomuser.me/api/portraits/men/17.jpg\",\"medium\":\"https://randomuser.me/api/portraits/med/men/17.jpg\",\"thumbnail\":\"https://randomuser.me/api/portraits/thumb/men/17.jpg\"},\"nat\":\"US\"}],\"info\":{\"seed\":\"477bdb6c9ed3c15f\",\"results\":5,\"page\":1,\"version\":\"1.2\"}}'"
      ]
     },
     "execution_count": 38,
     "metadata": {},
     "output_type": "execute_result"
    }
   ],
   "source": [
    "response.text"
   ]
  },
  {
   "cell_type": "markdown",
   "metadata": {},
   "source": [
    "* You can convert the data from JSON to a Python dictionary with the package JSON"
   ]
  },
  {
   "cell_type": "code",
   "execution_count": 39,
   "metadata": {},
   "outputs": [],
   "source": [
    "data = json.loads(response.text)"
   ]
  },
  {
   "cell_type": "markdown",
   "metadata": {},
   "source": [
    "* Check the type of variable data"
   ]
  },
  {
   "cell_type": "code",
   "execution_count": 40,
   "metadata": {},
   "outputs": [
    {
     "data": {
      "text/plain": [
       "dict"
      ]
     },
     "execution_count": 40,
     "metadata": {},
     "output_type": "execute_result"
    }
   ],
   "source": [
    "# TODO\n",
    "type(data)"
   ]
  },
  {
   "cell_type": "code",
   "execution_count": 41,
   "metadata": {},
   "outputs": [
    {
     "name": "stdout",
     "output_type": "stream",
     "text": [
      "{'results': [{'gender': 'male', 'name': {'title': 'mr', 'first': 'alfredo', 'last': 'bates'}, 'location': {'street': '5150 oak lawn ave', 'city': 'omaha', 'state': 'new jersey', 'postcode': 34026, 'coordinates': {'latitude': '70.6020', 'longitude': '-168.5339'}, 'timezone': {'offset': '+11:00', 'description': 'Magadan, Solomon Islands, New Caledonia'}}, 'email': 'alfredo.bates@example.com', 'login': {'uuid': '0f88a948-7a67-40ad-910c-4b2e7f8fb667', 'username': 'beautifulbear827', 'password': 'access', 'salt': 'IDQyBbNY', 'md5': '943a5489c982c1a5d04e5208eddb5651', 'sha1': 'e41d9c8d1952fb7a5721a09dd0d4544c64d41bc6', 'sha256': '85303bf3b258fef480a919348071f47aa4e14b3aa06972511615a630f5d92b8e'}, 'dob': {'date': '1960-05-01T11:13:45Z', 'age': 58}, 'registered': {'date': '2013-11-10T13:27:51Z', 'age': 5}, 'phone': '(949)-596-3442', 'cell': '(077)-390-1569', 'id': {'name': 'SSN', 'value': '969-51-8957'}, 'picture': {'large': 'https://randomuser.me/api/portraits/men/13.jpg', 'medium': 'https://randomuser.me/api/portraits/med/men/13.jpg', 'thumbnail': 'https://randomuser.me/api/portraits/thumb/men/13.jpg'}, 'nat': 'US'}, {'gender': 'male', 'name': {'title': 'mr', 'first': 'anthony', 'last': 'simmmons'}, 'location': {'street': '856 brown terrace', 'city': 'birmingham', 'state': 'alaska', 'postcode': 78864, 'coordinates': {'latitude': '-38.8223', 'longitude': '-169.7443'}, 'timezone': {'offset': '+3:00', 'description': 'Baghdad, Riyadh, Moscow, St. Petersburg'}}, 'email': 'anthony.simmmons@example.com', 'login': {'uuid': 'bb5f028a-feae-482d-a8b6-0d81010cdcd6', 'username': 'bluekoala105', 'password': 'shower', 'salt': '2W1zKvtc', 'md5': 'c38f5f27b2a53a99c0c3f2aa7d9c2f07', 'sha1': '1746c7456491c43fef293403e98da101a4b87cfb', 'sha256': '06c6560a9254b1286054c41da2fd7c5900be74a06a5243d17bc1b0e599a08bc6'}, 'dob': {'date': '1952-12-12T10:34:04Z', 'age': 66}, 'registered': {'date': '2007-05-19T13:11:22Z', 'age': 11}, 'phone': '(564)-507-3051', 'cell': '(894)-172-8412', 'id': {'name': 'SSN', 'value': '847-73-4092'}, 'picture': {'large': 'https://randomuser.me/api/portraits/men/52.jpg', 'medium': 'https://randomuser.me/api/portraits/med/men/52.jpg', 'thumbnail': 'https://randomuser.me/api/portraits/thumb/men/52.jpg'}, 'nat': 'US'}, {'gender': 'male', 'name': {'title': 'mr', 'first': 'frederick', 'last': 'arnold'}, 'location': {'street': '4618 james st', 'city': 'brownsville', 'state': 'california', 'postcode': 43937, 'coordinates': {'latitude': '16.4514', 'longitude': '-57.7018'}, 'timezone': {'offset': '+10:00', 'description': 'Eastern Australia, Guam, Vladivostok'}}, 'email': 'frederick.arnold@example.com', 'login': {'uuid': '40c37025-8897-490b-8082-df72b3d714e7', 'username': 'heavybird774', 'password': 'punisher', 'salt': '1d4iFR6J', 'md5': '00cc1d074e7145f66e60e74a7bedfa4f', 'sha1': '8674ec08a2754c1e97e23b5eb1c0816eb4b1ac25', 'sha256': '07824bdb9792afe1e876122340bb26fa922fff0f9b977cf3ed01b1319421dbd4'}, 'dob': {'date': '1981-03-22T15:24:23Z', 'age': 38}, 'registered': {'date': '2014-10-03T09:37:27Z', 'age': 4}, 'phone': '(170)-252-9077', 'cell': '(418)-424-3795', 'id': {'name': 'SSN', 'value': '400-37-1846'}, 'picture': {'large': 'https://randomuser.me/api/portraits/men/6.jpg', 'medium': 'https://randomuser.me/api/portraits/med/men/6.jpg', 'thumbnail': 'https://randomuser.me/api/portraits/thumb/men/6.jpg'}, 'nat': 'US'}, {'gender': 'male', 'name': {'title': 'mr', 'first': 'franklin', 'last': 'day'}, 'location': {'street': '7450 pecan acres ln', 'city': 'tucson', 'state': 'south carolina', 'postcode': 45491, 'coordinates': {'latitude': '46.1042', 'longitude': '80.5951'}, 'timezone': {'offset': '+3:30', 'description': 'Tehran'}}, 'email': 'franklin.day@example.com', 'login': {'uuid': '660f4150-f761-416d-8e28-be9b60bbc12c', 'username': 'smallsnake855', 'password': 'fastball', 'salt': 'ZU7uPaEX', 'md5': '74c71ba72a7fd855424f8ddd8b4a7b48', 'sha1': 'b523711a5b6ff19fe634df4000992c5661d8d418', 'sha256': '2284faeda57314add1b8abe5b9df212e366dbc38fb661279a3fbed0f96c659a4'}, 'dob': {'date': '1944-11-09T09:18:14Z', 'age': 74}, 'registered': {'date': '2016-10-18T03:36:01Z', 'age': 2}, 'phone': '(576)-631-9605', 'cell': '(171)-394-1920', 'id': {'name': 'SSN', 'value': '402-13-9379'}, 'picture': {'large': 'https://randomuser.me/api/portraits/men/27.jpg', 'medium': 'https://randomuser.me/api/portraits/med/men/27.jpg', 'thumbnail': 'https://randomuser.me/api/portraits/thumb/men/27.jpg'}, 'nat': 'US'}, {'gender': 'male', 'name': {'title': 'mr', 'first': 'harold', 'last': 'smith'}, 'location': {'street': '2878 prospect rd', 'city': 'chattanooga', 'state': 'connecticut', 'postcode': 40878, 'coordinates': {'latitude': '-77.4375', 'longitude': '-73.2254'}, 'timezone': {'offset': '+8:00', 'description': 'Beijing, Perth, Singapore, Hong Kong'}}, 'email': 'harold.smith@example.com', 'login': {'uuid': '94f0cb62-d746-46bf-8700-4b2d795539b9', 'username': 'orangepanda858', 'password': 'coming', 'salt': 'MvhqY70B', 'md5': 'f95d5cad5e4a3d26ef3b53674488b82f', 'sha1': '869e930f8c9ebe2119ae2803c5840ce6780315cf', 'sha256': 'dbd68ae7417330b7a44daff798fc28ab6f7df831f3cc133552e4619b32bd369c'}, 'dob': {'date': '1982-11-11T23:05:20Z', 'age': 36}, 'registered': {'date': '2006-04-28T03:47:27Z', 'age': 13}, 'phone': '(535)-840-4308', 'cell': '(346)-860-5358', 'id': {'name': 'SSN', 'value': '707-49-6789'}, 'picture': {'large': 'https://randomuser.me/api/portraits/men/17.jpg', 'medium': 'https://randomuser.me/api/portraits/med/men/17.jpg', 'thumbnail': 'https://randomuser.me/api/portraits/thumb/men/17.jpg'}, 'nat': 'US'}], 'info': {'seed': '477bdb6c9ed3c15f', 'results': 5, 'page': 1, 'version': '1.2'}}\n"
     ]
    }
   ],
   "source": [
    "print(data)"
   ]
  },
  {
   "cell_type": "markdown",
   "metadata": {},
   "source": [
    "* *pretty-print* (pprint) prints complex data structures like dictionary prettier.  https://docs.python.org/3/library/pprint.html "
   ]
  },
  {
   "cell_type": "code",
   "execution_count": 42,
   "metadata": {},
   "outputs": [
    {
     "name": "stdout",
     "output_type": "stream",
     "text": [
      "{'info': {'page': 1,\n",
      "          'results': 5,\n",
      "          'seed': '477bdb6c9ed3c15f',\n",
      "          'version': '1.2'},\n",
      " 'results': [{'cell': '(077)-390-1569',\n",
      "              'dob': {'age': 58, 'date': '1960-05-01T11:13:45Z'},\n",
      "              'email': 'alfredo.bates@example.com',\n",
      "              'gender': 'male',\n",
      "              'id': {'name': 'SSN', 'value': '969-51-8957'},\n",
      "              'location': {'city': 'omaha',\n",
      "                           'coordinates': {'latitude': '70.6020',\n",
      "                                           'longitude': '-168.5339'},\n",
      "                           'postcode': 34026,\n",
      "                           'state': 'new jersey',\n",
      "                           'street': '5150 oak lawn ave',\n",
      "                           'timezone': {'description': 'Magadan, Solomon '\n",
      "                                                       'Islands, New Caledonia',\n",
      "                                        'offset': '+11:00'}},\n",
      "              'login': {'md5': '943a5489c982c1a5d04e5208eddb5651',\n",
      "                        'password': 'access',\n",
      "                        'salt': 'IDQyBbNY',\n",
      "                        'sha1': 'e41d9c8d1952fb7a5721a09dd0d4544c64d41bc6',\n",
      "                        'sha256': '85303bf3b258fef480a919348071f47aa4e14b3aa06972511615a630f5d92b8e',\n",
      "                        'username': 'beautifulbear827',\n",
      "                        'uuid': '0f88a948-7a67-40ad-910c-4b2e7f8fb667'},\n",
      "              'name': {'first': 'alfredo', 'last': 'bates', 'title': 'mr'},\n",
      "              'nat': 'US',\n",
      "              'phone': '(949)-596-3442',\n",
      "              'picture': {'large': 'https://randomuser.me/api/portraits/men/13.jpg',\n",
      "                          'medium': 'https://randomuser.me/api/portraits/med/men/13.jpg',\n",
      "                          'thumbnail': 'https://randomuser.me/api/portraits/thumb/men/13.jpg'},\n",
      "              'registered': {'age': 5, 'date': '2013-11-10T13:27:51Z'}},\n",
      "             {'cell': '(894)-172-8412',\n",
      "              'dob': {'age': 66, 'date': '1952-12-12T10:34:04Z'},\n",
      "              'email': 'anthony.simmmons@example.com',\n",
      "              'gender': 'male',\n",
      "              'id': {'name': 'SSN', 'value': '847-73-4092'},\n",
      "              'location': {'city': 'birmingham',\n",
      "                           'coordinates': {'latitude': '-38.8223',\n",
      "                                           'longitude': '-169.7443'},\n",
      "                           'postcode': 78864,\n",
      "                           'state': 'alaska',\n",
      "                           'street': '856 brown terrace',\n",
      "                           'timezone': {'description': 'Baghdad, Riyadh, '\n",
      "                                                       'Moscow, St. Petersburg',\n",
      "                                        'offset': '+3:00'}},\n",
      "              'login': {'md5': 'c38f5f27b2a53a99c0c3f2aa7d9c2f07',\n",
      "                        'password': 'shower',\n",
      "                        'salt': '2W1zKvtc',\n",
      "                        'sha1': '1746c7456491c43fef293403e98da101a4b87cfb',\n",
      "                        'sha256': '06c6560a9254b1286054c41da2fd7c5900be74a06a5243d17bc1b0e599a08bc6',\n",
      "                        'username': 'bluekoala105',\n",
      "                        'uuid': 'bb5f028a-feae-482d-a8b6-0d81010cdcd6'},\n",
      "              'name': {'first': 'anthony', 'last': 'simmmons', 'title': 'mr'},\n",
      "              'nat': 'US',\n",
      "              'phone': '(564)-507-3051',\n",
      "              'picture': {'large': 'https://randomuser.me/api/portraits/men/52.jpg',\n",
      "                          'medium': 'https://randomuser.me/api/portraits/med/men/52.jpg',\n",
      "                          'thumbnail': 'https://randomuser.me/api/portraits/thumb/men/52.jpg'},\n",
      "              'registered': {'age': 11, 'date': '2007-05-19T13:11:22Z'}},\n",
      "             {'cell': '(418)-424-3795',\n",
      "              'dob': {'age': 38, 'date': '1981-03-22T15:24:23Z'},\n",
      "              'email': 'frederick.arnold@example.com',\n",
      "              'gender': 'male',\n",
      "              'id': {'name': 'SSN', 'value': '400-37-1846'},\n",
      "              'location': {'city': 'brownsville',\n",
      "                           'coordinates': {'latitude': '16.4514',\n",
      "                                           'longitude': '-57.7018'},\n",
      "                           'postcode': 43937,\n",
      "                           'state': 'california',\n",
      "                           'street': '4618 james st',\n",
      "                           'timezone': {'description': 'Eastern Australia, '\n",
      "                                                       'Guam, Vladivostok',\n",
      "                                        'offset': '+10:00'}},\n",
      "              'login': {'md5': '00cc1d074e7145f66e60e74a7bedfa4f',\n",
      "                        'password': 'punisher',\n",
      "                        'salt': '1d4iFR6J',\n",
      "                        'sha1': '8674ec08a2754c1e97e23b5eb1c0816eb4b1ac25',\n",
      "                        'sha256': '07824bdb9792afe1e876122340bb26fa922fff0f9b977cf3ed01b1319421dbd4',\n",
      "                        'username': 'heavybird774',\n",
      "                        'uuid': '40c37025-8897-490b-8082-df72b3d714e7'},\n",
      "              'name': {'first': 'frederick', 'last': 'arnold', 'title': 'mr'},\n",
      "              'nat': 'US',\n",
      "              'phone': '(170)-252-9077',\n",
      "              'picture': {'large': 'https://randomuser.me/api/portraits/men/6.jpg',\n",
      "                          'medium': 'https://randomuser.me/api/portraits/med/men/6.jpg',\n",
      "                          'thumbnail': 'https://randomuser.me/api/portraits/thumb/men/6.jpg'},\n",
      "              'registered': {'age': 4, 'date': '2014-10-03T09:37:27Z'}},\n",
      "             {'cell': '(171)-394-1920',\n",
      "              'dob': {'age': 74, 'date': '1944-11-09T09:18:14Z'},\n",
      "              'email': 'franklin.day@example.com',\n",
      "              'gender': 'male',\n",
      "              'id': {'name': 'SSN', 'value': '402-13-9379'},\n",
      "              'location': {'city': 'tucson',\n",
      "                           'coordinates': {'latitude': '46.1042',\n",
      "                                           'longitude': '80.5951'},\n",
      "                           'postcode': 45491,\n",
      "                           'state': 'south carolina',\n",
      "                           'street': '7450 pecan acres ln',\n",
      "                           'timezone': {'description': 'Tehran',\n",
      "                                        'offset': '+3:30'}},\n",
      "              'login': {'md5': '74c71ba72a7fd855424f8ddd8b4a7b48',\n",
      "                        'password': 'fastball',\n",
      "                        'salt': 'ZU7uPaEX',\n",
      "                        'sha1': 'b523711a5b6ff19fe634df4000992c5661d8d418',\n",
      "                        'sha256': '2284faeda57314add1b8abe5b9df212e366dbc38fb661279a3fbed0f96c659a4',\n",
      "                        'username': 'smallsnake855',\n",
      "                        'uuid': '660f4150-f761-416d-8e28-be9b60bbc12c'},\n",
      "              'name': {'first': 'franklin', 'last': 'day', 'title': 'mr'},\n",
      "              'nat': 'US',\n",
      "              'phone': '(576)-631-9605',\n",
      "              'picture': {'large': 'https://randomuser.me/api/portraits/men/27.jpg',\n",
      "                          'medium': 'https://randomuser.me/api/portraits/med/men/27.jpg',\n",
      "                          'thumbnail': 'https://randomuser.me/api/portraits/thumb/men/27.jpg'},\n",
      "              'registered': {'age': 2, 'date': '2016-10-18T03:36:01Z'}},\n",
      "             {'cell': '(346)-860-5358',\n",
      "              'dob': {'age': 36, 'date': '1982-11-11T23:05:20Z'},\n",
      "              'email': 'harold.smith@example.com',\n",
      "              'gender': 'male',\n",
      "              'id': {'name': 'SSN', 'value': '707-49-6789'},\n",
      "              'location': {'city': 'chattanooga',\n",
      "                           'coordinates': {'latitude': '-77.4375',\n",
      "                                           'longitude': '-73.2254'},\n",
      "                           'postcode': 40878,\n",
      "                           'state': 'connecticut',\n",
      "                           'street': '2878 prospect rd',\n",
      "                           'timezone': {'description': 'Beijing, Perth, '\n",
      "                                                       'Singapore, Hong Kong',\n",
      "                                        'offset': '+8:00'}},\n",
      "              'login': {'md5': 'f95d5cad5e4a3d26ef3b53674488b82f',\n",
      "                        'password': 'coming',\n",
      "                        'salt': 'MvhqY70B',\n",
      "                        'sha1': '869e930f8c9ebe2119ae2803c5840ce6780315cf',\n",
      "                        'sha256': 'dbd68ae7417330b7a44daff798fc28ab6f7df831f3cc133552e4619b32bd369c',\n",
      "                        'username': 'orangepanda858',\n",
      "                        'uuid': '94f0cb62-d746-46bf-8700-4b2d795539b9'},\n",
      "              'name': {'first': 'harold', 'last': 'smith', 'title': 'mr'},\n",
      "              'nat': 'US',\n",
      "              'phone': '(535)-840-4308',\n",
      "              'picture': {'large': 'https://randomuser.me/api/portraits/men/17.jpg',\n",
      "                          'medium': 'https://randomuser.me/api/portraits/med/men/17.jpg',\n",
      "                          'thumbnail': 'https://randomuser.me/api/portraits/thumb/men/17.jpg'},\n",
      "              'registered': {'age': 13, 'date': '2006-04-28T03:47:27Z'}}]}\n"
     ]
    }
   ],
   "source": [
    "from pprint import pprint\n",
    "pprint(data)"
   ]
  },
  {
   "cell_type": "markdown",
   "metadata": {},
   "source": [
    "* Loop through the dictionary and print all first names"
   ]
  },
  {
   "cell_type": "code",
   "execution_count": 90,
   "metadata": {},
   "outputs": [
    {
     "ename": "KeyError",
     "evalue": "'id'",
     "output_type": "error",
     "traceback": [
      "\u001b[1;31m---------------------------------------------------------------------------\u001b[0m",
      "\u001b[1;31mKeyError\u001b[0m                                  Traceback (most recent call last)",
      "\u001b[1;32m<ipython-input-90-f771f389b039>\u001b[0m in \u001b[0;36m<module>\u001b[1;34m()\u001b[0m\n\u001b[0;32m      3\u001b[0m \u001b[0mresponse_json\u001b[0m \u001b[1;33m=\u001b[0m \u001b[0mresponse\u001b[0m\u001b[1;33m.\u001b[0m\u001b[0mjson\u001b[0m\u001b[1;33m(\u001b[0m\u001b[1;33m)\u001b[0m\u001b[1;33m\u001b[0m\u001b[0m\n\u001b[0;32m      4\u001b[0m \u001b[1;33m\u001b[0m\u001b[0m\n\u001b[1;32m----> 5\u001b[1;33m \u001b[1;32mfor\u001b[0m \u001b[0mp\u001b[0m \u001b[1;32min\u001b[0m \u001b[0mresponse_json\u001b[0m\u001b[1;33m[\u001b[0m\u001b[1;34m'id'\u001b[0m\u001b[1;33m]\u001b[0m\u001b[1;33m:\u001b[0m\u001b[1;33m\u001b[0m\u001b[0m\n\u001b[0m\u001b[0;32m      6\u001b[0m     \u001b[0mprint\u001b[0m\u001b[1;33m(\u001b[0m\u001b[0mp\u001b[0m\u001b[1;33m[\u001b[0m\u001b[1;34m'name'\u001b[0m\u001b[1;33m]\u001b[0m\u001b[1;33m)\u001b[0m\u001b[1;33m\u001b[0m\u001b[0m\n",
      "\u001b[1;31mKeyError\u001b[0m: 'id'"
     ]
    }
   ],
   "source": [
    "# TODO\n",
    "response = requests.get(\"https://api.randomuser.me/\")\n",
    "response_json = response.json()\n",
    "\n",
    "for p in response_json['id']:\n",
    "    print(p['name'])"
   ]
  },
  {
   "cell_type": "markdown",
   "metadata": {},
   "source": [
    "* Get all astronauts who are right now in space. You get the information about the Web APU from here  http://open-notify.org/Open-Notify-API/People-In-Space/ "
   ]
  },
  {
   "cell_type": "code",
   "execution_count": 69,
   "metadata": {},
   "outputs": [
    {
     "name": "stdout",
     "output_type": "stream",
     "text": [
      "{\"message\": \"success\", \"number\": 6, \"people\": [{\"craft\": \"ISS\", \"name\": \"Oleg Kononenko\"}, {\"craft\": \"ISS\", \"name\": \"David Saint-Jacques\"}, {\"craft\": \"ISS\", \"name\": \"Anne McClain\"}, {\"craft\": \"ISS\", \"name\": \"Alexey Ovchinin\"}, {\"craft\": \"ISS\", \"name\": \"Nick Hague\"}, {\"craft\": \"ISS\", \"name\": \"Christina Koch\"}]}\n"
     ]
    }
   ],
   "source": [
    "# TODO\n",
    "people = requests.get('http://api.open-notify.org/astros.json')\n",
    "print(people.text)"
   ]
  },
  {
   "cell_type": "markdown",
   "metadata": {},
   "source": [
    "* Print the number of people that are right now in space"
   ]
  },
  {
   "cell_type": "code",
   "execution_count": 65,
   "metadata": {},
   "outputs": [
    {
     "data": {
      "text/plain": [
       "6"
      ]
     },
     "execution_count": 65,
     "metadata": {},
     "output_type": "execute_result"
    }
   ],
   "source": [
    "# TODO\n",
    "people_json['number']"
   ]
  },
  {
   "cell_type": "markdown",
   "metadata": {},
   "source": [
    "* Print the names of all astronauts "
   ]
  },
  {
   "cell_type": "code",
   "execution_count": 66,
   "metadata": {},
   "outputs": [
    {
     "name": "stdout",
     "output_type": "stream",
     "text": [
      "Oleg Kononenko\n",
      "David Saint-Jacques\n",
      "Anne McClain\n",
      "Alexey Ovchinin\n",
      "Nick Hague\n",
      "Christina Koch\n"
     ]
    }
   ],
   "source": [
    "# TODO\n",
    "url = \"http://api.open-notify.org/astros.json\"\n",
    "people = requests.get(url)\n",
    "people_json  = people.json()\n",
    "\n",
    "for p in people_json['people']:\n",
    "    print(p['name'])"
   ]
  },
  {
   "cell_type": "markdown",
   "metadata": {},
   "source": [
    "* A lot of Web APIs require a api-key for interacting with them (like Twitter, Facebook, …). You find at http://www.python-requests.org/en/latest/user/authentication/ more information for Authentication for Web APIs with the request package\n",
    "* There are also special Python packages for interacting with services. E.g. for Twitter: http://www.tweepy.org/ or  https://github.com/bear/python-twitter \n",
    "\n",
    "See e.g. http://socialmedia-class.org/twittertutorial.html for a tutorial"
   ]
  },
  {
   "cell_type": "markdown",
   "metadata": {},
   "source": [
    "## 2. Creating a Web API\n",
    "\n",
    "* Create a folder `webapi` and change into it.\n",
    "* Create in the `webapi` folder a file with the name `Dockerfile` with the following content:\n",
    "\n",
    "----\n",
    "```bash\n",
    "# Use an official Python runtime as a parent image\n",
    "FROM python:3.7-slim\n",
    "\n",
    "# Set the working directory to /app\n",
    "WORKDIR /app\n",
    "\n",
    "# Copy the current directory contents into the container at /app\n",
    "COPY app/ /app\n",
    "\n",
    "# Install any needed packages specified in requirements.txt\n",
    "RUN pip install --trusted-host pypi.python.org -r requirements.txt\n",
    "\n",
    "# Make port 80 available to the world outside this container\n",
    "EXPOSE 80\n",
    "\n",
    "# Run app.py when the container launches\n",
    "CMD [\"python\", \"app.py\"]\n",
    "```\n",
    "\n",
    "-----\n",
    "\n",
    "* We can also use Docker compose with just one service. Create in your `webapi` folder a `docker-compose.yml` file:\n",
    "\n",
    "-----\n",
    "\n",
    "```yaml\n",
    "version: '3'\n",
    "services:\n",
    "  api:\n",
    "    build: .\n",
    "    ports:\n",
    "      - \"5000:80\"\n",
    "    restart: always\n",
    "    volumes:\n",
    "      - ./app:/app\n",
    "```\n",
    "-----\n",
    "\n",
    "* Create a folder in the `webapi` folder a new folder with the name `app`\n",
    "* We will build a web API with `Flask` (http://flask.pocoo.org/) . Create a `requirements.txt` file in the `app` folder. Here we can specify all python `pip` packages that we need:\n",
    "\n",
    "-----\n",
    "```bash\n",
    "Flask\n",
    "```\n",
    "-----\n",
    "\n",
    "* Create the `app.py` file in the `app` folder:\n",
    "\n",
    "-----\n",
    "```python\n",
    "from flask import Flask\n",
    "from flask import request, jsonify\n",
    "\n",
    "app = Flask(__name__)\n",
    "\n",
    "courses = [\n",
    "    {'id': 0,\n",
    "     'title': 'Data Science',\n",
    "     'professor': 'Markus Löcher',\n",
    "     'semester': '1'},\n",
    "    {'id': 1,\n",
    "     'title': 'Data Warehousing',\n",
    "     'professor': 'Roland M. Mueller',\n",
    "     'semester': '1'},\n",
    "    {'id': 2,\n",
    "     'title': 'Business Process Management',\n",
    "     'professor': 'Frank Habermann',\n",
    "     'semester': '1'},\n",
    "    {'id': 3,\n",
    "     'title': 'Stratigic Issues of IT',\n",
    "     'professor': 'Sven Pohland',\n",
    "     'semester': '1'},\n",
    "    {'id': 4,\n",
    "     'title': 'Text, Web and Social Media Analytics Lab',\n",
    "     'professor': 'Markus Löcher',\n",
    "     'semester': '2'},\n",
    "    {'id': 5,\n",
    "     'title': 'Enterprise Architectures for Big Data',\n",
    "     'professor': 'Roland M. Mueller',\n",
    "     'semester': '2'},\n",
    "    {'id': 6,\n",
    "     'title': 'Business Process Integration Lab',\n",
    "     'professor': 'Frank Habermann',\n",
    "     'semester': '2'},\n",
    "    {'id': 7,\n",
    "     'title': 'IT-Security and Privacy',\n",
    "     'professor': 'Dennis Uckel',\n",
    "     'semester': '2'},\n",
    "    {'id': 8,\n",
    "     'title': 'Research Methods',\n",
    "     'professor': 'Marcus Birkenkrahe',\n",
    "     'semester': '2'},\n",
    "]\n",
    "\n",
    "@app.route('/api/v1/courses/all', methods=['GET'])\n",
    "def api_all():\n",
    "    return jsonify(courses)\n",
    "\n",
    "@app.route('/api/v1/courses', methods=['GET'])\n",
    "def api_id():\n",
    "    # Check if an ID was provided as part of the URL.\n",
    "    # If ID is provided, assign it to a variable.\n",
    "    # If no ID is provided, display an error in the browser.\n",
    "    if 'id' in request.args:\n",
    "        id = int(request.args['id'])\n",
    "    else:\n",
    "        return \"Error: No id field provided. Please specify an id.\"\n",
    "\n",
    "    # Create an empty list for our results\n",
    "    results = []\n",
    "\n",
    "    # Loop through the data and match results that fit the requested ID.\n",
    "    # IDs are unique, but other fields might return many results\n",
    "    for course in courses:\n",
    "        if course['id'] == id:\n",
    "            results.append(course)\n",
    "\n",
    "    # Use the jsonify function from Flask to convert our list of\n",
    "    # Python dictionaries to the JSON format.\n",
    "    return jsonify(results)\n",
    "\n",
    "if __name__ == \"__main__\":\n",
    "    app.run(host=\"0.0.0.0\", port=80, debug=True)\n",
    "```\n",
    "-----\n",
    "* Open http://localhost:5000/api/v1/courses/all in a browser\n",
    "* Open http://localhost:5000/api/v1/courses?id=5 in a browser\n"
   ]
  },
  {
   "cell_type": "markdown",
   "metadata": {
    "collapsed": true
   },
   "source": [
    "* Use your own API here in the Jupyter Notebook with Python and print all names of all courses "
   ]
  },
  {
   "cell_type": "code",
   "execution_count": 83,
   "metadata": {},
   "outputs": [
    {
     "ename": "ConnectionError",
     "evalue": "HTTPConnectionPool(host='localhost', port=5000): Max retries exceeded with url: /api/v1/courses/all (Caused by NewConnectionError('<urllib3.connection.HTTPConnection object at 0x0000021747664588>: Failed to establish a new connection: [WinError 10061] No connection could be made because the target machine actively refused it'))",
     "output_type": "error",
     "traceback": [
      "\u001b[1;31m---------------------------------------------------------------------------\u001b[0m",
      "\u001b[1;31mConnectionRefusedError\u001b[0m                    Traceback (most recent call last)",
      "\u001b[1;32m~\\Anaconda\\lib\\site-packages\\urllib3\\connection.py\u001b[0m in \u001b[0;36m_new_conn\u001b[1;34m(self)\u001b[0m\n\u001b[0;32m    170\u001b[0m             conn = connection.create_connection(\n\u001b[1;32m--> 171\u001b[1;33m                 (self._dns_host, self.port), self.timeout, **extra_kw)\n\u001b[0m\u001b[0;32m    172\u001b[0m \u001b[1;33m\u001b[0m\u001b[0m\n",
      "\u001b[1;32m~\\Anaconda\\lib\\site-packages\\urllib3\\util\\connection.py\u001b[0m in \u001b[0;36mcreate_connection\u001b[1;34m(address, timeout, source_address, socket_options)\u001b[0m\n\u001b[0;32m     78\u001b[0m     \u001b[1;32mif\u001b[0m \u001b[0merr\u001b[0m \u001b[1;32mis\u001b[0m \u001b[1;32mnot\u001b[0m \u001b[1;32mNone\u001b[0m\u001b[1;33m:\u001b[0m\u001b[1;33m\u001b[0m\u001b[0m\n\u001b[1;32m---> 79\u001b[1;33m         \u001b[1;32mraise\u001b[0m \u001b[0merr\u001b[0m\u001b[1;33m\u001b[0m\u001b[0m\n\u001b[0m\u001b[0;32m     80\u001b[0m \u001b[1;33m\u001b[0m\u001b[0m\n",
      "\u001b[1;32m~\\Anaconda\\lib\\site-packages\\urllib3\\util\\connection.py\u001b[0m in \u001b[0;36mcreate_connection\u001b[1;34m(address, timeout, source_address, socket_options)\u001b[0m\n\u001b[0;32m     68\u001b[0m                 \u001b[0msock\u001b[0m\u001b[1;33m.\u001b[0m\u001b[0mbind\u001b[0m\u001b[1;33m(\u001b[0m\u001b[0msource_address\u001b[0m\u001b[1;33m)\u001b[0m\u001b[1;33m\u001b[0m\u001b[0m\n\u001b[1;32m---> 69\u001b[1;33m             \u001b[0msock\u001b[0m\u001b[1;33m.\u001b[0m\u001b[0mconnect\u001b[0m\u001b[1;33m(\u001b[0m\u001b[0msa\u001b[0m\u001b[1;33m)\u001b[0m\u001b[1;33m\u001b[0m\u001b[0m\n\u001b[0m\u001b[0;32m     70\u001b[0m             \u001b[1;32mreturn\u001b[0m \u001b[0msock\u001b[0m\u001b[1;33m\u001b[0m\u001b[0m\n",
      "\u001b[1;31mConnectionRefusedError\u001b[0m: [WinError 10061] No connection could be made because the target machine actively refused it",
      "\nDuring handling of the above exception, another exception occurred:\n",
      "\u001b[1;31mNewConnectionError\u001b[0m                        Traceback (most recent call last)",
      "\u001b[1;32m~\\Anaconda\\lib\\site-packages\\urllib3\\connectionpool.py\u001b[0m in \u001b[0;36murlopen\u001b[1;34m(self, method, url, body, headers, retries, redirect, assert_same_host, timeout, pool_timeout, release_conn, chunked, body_pos, **response_kw)\u001b[0m\n\u001b[0;32m    599\u001b[0m                                                   \u001b[0mbody\u001b[0m\u001b[1;33m=\u001b[0m\u001b[0mbody\u001b[0m\u001b[1;33m,\u001b[0m \u001b[0mheaders\u001b[0m\u001b[1;33m=\u001b[0m\u001b[0mheaders\u001b[0m\u001b[1;33m,\u001b[0m\u001b[1;33m\u001b[0m\u001b[0m\n\u001b[1;32m--> 600\u001b[1;33m                                                   chunked=chunked)\n\u001b[0m\u001b[0;32m    601\u001b[0m \u001b[1;33m\u001b[0m\u001b[0m\n",
      "\u001b[1;32m~\\Anaconda\\lib\\site-packages\\urllib3\\connectionpool.py\u001b[0m in \u001b[0;36m_make_request\u001b[1;34m(self, conn, method, url, timeout, chunked, **httplib_request_kw)\u001b[0m\n\u001b[0;32m    353\u001b[0m         \u001b[1;32melse\u001b[0m\u001b[1;33m:\u001b[0m\u001b[1;33m\u001b[0m\u001b[0m\n\u001b[1;32m--> 354\u001b[1;33m             \u001b[0mconn\u001b[0m\u001b[1;33m.\u001b[0m\u001b[0mrequest\u001b[0m\u001b[1;33m(\u001b[0m\u001b[0mmethod\u001b[0m\u001b[1;33m,\u001b[0m \u001b[0murl\u001b[0m\u001b[1;33m,\u001b[0m \u001b[1;33m**\u001b[0m\u001b[0mhttplib_request_kw\u001b[0m\u001b[1;33m)\u001b[0m\u001b[1;33m\u001b[0m\u001b[0m\n\u001b[0m\u001b[0;32m    355\u001b[0m \u001b[1;33m\u001b[0m\u001b[0m\n",
      "\u001b[1;32m~\\Anaconda\\lib\\http\\client.py\u001b[0m in \u001b[0;36mrequest\u001b[1;34m(self, method, url, body, headers, encode_chunked)\u001b[0m\n\u001b[0;32m   1228\u001b[0m         \u001b[1;34m\"\"\"Send a complete request to the server.\"\"\"\u001b[0m\u001b[1;33m\u001b[0m\u001b[0m\n\u001b[1;32m-> 1229\u001b[1;33m         \u001b[0mself\u001b[0m\u001b[1;33m.\u001b[0m\u001b[0m_send_request\u001b[0m\u001b[1;33m(\u001b[0m\u001b[0mmethod\u001b[0m\u001b[1;33m,\u001b[0m \u001b[0murl\u001b[0m\u001b[1;33m,\u001b[0m \u001b[0mbody\u001b[0m\u001b[1;33m,\u001b[0m \u001b[0mheaders\u001b[0m\u001b[1;33m,\u001b[0m \u001b[0mencode_chunked\u001b[0m\u001b[1;33m)\u001b[0m\u001b[1;33m\u001b[0m\u001b[0m\n\u001b[0m\u001b[0;32m   1230\u001b[0m \u001b[1;33m\u001b[0m\u001b[0m\n",
      "\u001b[1;32m~\\Anaconda\\lib\\http\\client.py\u001b[0m in \u001b[0;36m_send_request\u001b[1;34m(self, method, url, body, headers, encode_chunked)\u001b[0m\n\u001b[0;32m   1274\u001b[0m             \u001b[0mbody\u001b[0m \u001b[1;33m=\u001b[0m \u001b[0m_encode\u001b[0m\u001b[1;33m(\u001b[0m\u001b[0mbody\u001b[0m\u001b[1;33m,\u001b[0m \u001b[1;34m'body'\u001b[0m\u001b[1;33m)\u001b[0m\u001b[1;33m\u001b[0m\u001b[0m\n\u001b[1;32m-> 1275\u001b[1;33m         \u001b[0mself\u001b[0m\u001b[1;33m.\u001b[0m\u001b[0mendheaders\u001b[0m\u001b[1;33m(\u001b[0m\u001b[0mbody\u001b[0m\u001b[1;33m,\u001b[0m \u001b[0mencode_chunked\u001b[0m\u001b[1;33m=\u001b[0m\u001b[0mencode_chunked\u001b[0m\u001b[1;33m)\u001b[0m\u001b[1;33m\u001b[0m\u001b[0m\n\u001b[0m\u001b[0;32m   1276\u001b[0m \u001b[1;33m\u001b[0m\u001b[0m\n",
      "\u001b[1;32m~\\Anaconda\\lib\\http\\client.py\u001b[0m in \u001b[0;36mendheaders\u001b[1;34m(self, message_body, encode_chunked)\u001b[0m\n\u001b[0;32m   1223\u001b[0m             \u001b[1;32mraise\u001b[0m \u001b[0mCannotSendHeader\u001b[0m\u001b[1;33m(\u001b[0m\u001b[1;33m)\u001b[0m\u001b[1;33m\u001b[0m\u001b[0m\n\u001b[1;32m-> 1224\u001b[1;33m         \u001b[0mself\u001b[0m\u001b[1;33m.\u001b[0m\u001b[0m_send_output\u001b[0m\u001b[1;33m(\u001b[0m\u001b[0mmessage_body\u001b[0m\u001b[1;33m,\u001b[0m \u001b[0mencode_chunked\u001b[0m\u001b[1;33m=\u001b[0m\u001b[0mencode_chunked\u001b[0m\u001b[1;33m)\u001b[0m\u001b[1;33m\u001b[0m\u001b[0m\n\u001b[0m\u001b[0;32m   1225\u001b[0m \u001b[1;33m\u001b[0m\u001b[0m\n",
      "\u001b[1;32m~\\Anaconda\\lib\\http\\client.py\u001b[0m in \u001b[0;36m_send_output\u001b[1;34m(self, message_body, encode_chunked)\u001b[0m\n\u001b[0;32m   1015\u001b[0m         \u001b[1;32mdel\u001b[0m \u001b[0mself\u001b[0m\u001b[1;33m.\u001b[0m\u001b[0m_buffer\u001b[0m\u001b[1;33m[\u001b[0m\u001b[1;33m:\u001b[0m\u001b[1;33m]\u001b[0m\u001b[1;33m\u001b[0m\u001b[0m\n\u001b[1;32m-> 1016\u001b[1;33m         \u001b[0mself\u001b[0m\u001b[1;33m.\u001b[0m\u001b[0msend\u001b[0m\u001b[1;33m(\u001b[0m\u001b[0mmsg\u001b[0m\u001b[1;33m)\u001b[0m\u001b[1;33m\u001b[0m\u001b[0m\n\u001b[0m\u001b[0;32m   1017\u001b[0m \u001b[1;33m\u001b[0m\u001b[0m\n",
      "\u001b[1;32m~\\Anaconda\\lib\\http\\client.py\u001b[0m in \u001b[0;36msend\u001b[1;34m(self, data)\u001b[0m\n\u001b[0;32m    955\u001b[0m             \u001b[1;32mif\u001b[0m \u001b[0mself\u001b[0m\u001b[1;33m.\u001b[0m\u001b[0mauto_open\u001b[0m\u001b[1;33m:\u001b[0m\u001b[1;33m\u001b[0m\u001b[0m\n\u001b[1;32m--> 956\u001b[1;33m                 \u001b[0mself\u001b[0m\u001b[1;33m.\u001b[0m\u001b[0mconnect\u001b[0m\u001b[1;33m(\u001b[0m\u001b[1;33m)\u001b[0m\u001b[1;33m\u001b[0m\u001b[0m\n\u001b[0m\u001b[0;32m    957\u001b[0m             \u001b[1;32melse\u001b[0m\u001b[1;33m:\u001b[0m\u001b[1;33m\u001b[0m\u001b[0m\n",
      "\u001b[1;32m~\\Anaconda\\lib\\site-packages\\urllib3\\connection.py\u001b[0m in \u001b[0;36mconnect\u001b[1;34m(self)\u001b[0m\n\u001b[0;32m    195\u001b[0m     \u001b[1;32mdef\u001b[0m \u001b[0mconnect\u001b[0m\u001b[1;33m(\u001b[0m\u001b[0mself\u001b[0m\u001b[1;33m)\u001b[0m\u001b[1;33m:\u001b[0m\u001b[1;33m\u001b[0m\u001b[0m\n\u001b[1;32m--> 196\u001b[1;33m         \u001b[0mconn\u001b[0m \u001b[1;33m=\u001b[0m \u001b[0mself\u001b[0m\u001b[1;33m.\u001b[0m\u001b[0m_new_conn\u001b[0m\u001b[1;33m(\u001b[0m\u001b[1;33m)\u001b[0m\u001b[1;33m\u001b[0m\u001b[0m\n\u001b[0m\u001b[0;32m    197\u001b[0m         \u001b[0mself\u001b[0m\u001b[1;33m.\u001b[0m\u001b[0m_prepare_conn\u001b[0m\u001b[1;33m(\u001b[0m\u001b[0mconn\u001b[0m\u001b[1;33m)\u001b[0m\u001b[1;33m\u001b[0m\u001b[0m\n",
      "\u001b[1;32m~\\Anaconda\\lib\\site-packages\\urllib3\\connection.py\u001b[0m in \u001b[0;36m_new_conn\u001b[1;34m(self)\u001b[0m\n\u001b[0;32m    179\u001b[0m             raise NewConnectionError(\n\u001b[1;32m--> 180\u001b[1;33m                 self, \"Failed to establish a new connection: %s\" % e)\n\u001b[0m\u001b[0;32m    181\u001b[0m \u001b[1;33m\u001b[0m\u001b[0m\n",
      "\u001b[1;31mNewConnectionError\u001b[0m: <urllib3.connection.HTTPConnection object at 0x0000021747664588>: Failed to establish a new connection: [WinError 10061] No connection could be made because the target machine actively refused it",
      "\nDuring handling of the above exception, another exception occurred:\n",
      "\u001b[1;31mMaxRetryError\u001b[0m                             Traceback (most recent call last)",
      "\u001b[1;32m~\\Anaconda\\lib\\site-packages\\requests\\adapters.py\u001b[0m in \u001b[0;36msend\u001b[1;34m(self, request, stream, timeout, verify, cert, proxies)\u001b[0m\n\u001b[0;32m    444\u001b[0m                     \u001b[0mretries\u001b[0m\u001b[1;33m=\u001b[0m\u001b[0mself\u001b[0m\u001b[1;33m.\u001b[0m\u001b[0mmax_retries\u001b[0m\u001b[1;33m,\u001b[0m\u001b[1;33m\u001b[0m\u001b[0m\n\u001b[1;32m--> 445\u001b[1;33m                     \u001b[0mtimeout\u001b[0m\u001b[1;33m=\u001b[0m\u001b[0mtimeout\u001b[0m\u001b[1;33m\u001b[0m\u001b[0m\n\u001b[0m\u001b[0;32m    446\u001b[0m                 )\n",
      "\u001b[1;32m~\\Anaconda\\lib\\site-packages\\urllib3\\connectionpool.py\u001b[0m in \u001b[0;36murlopen\u001b[1;34m(self, method, url, body, headers, retries, redirect, assert_same_host, timeout, pool_timeout, release_conn, chunked, body_pos, **response_kw)\u001b[0m\n\u001b[0;32m    637\u001b[0m             retries = retries.increment(method, url, error=e, _pool=self,\n\u001b[1;32m--> 638\u001b[1;33m                                         _stacktrace=sys.exc_info()[2])\n\u001b[0m\u001b[0;32m    639\u001b[0m             \u001b[0mretries\u001b[0m\u001b[1;33m.\u001b[0m\u001b[0msleep\u001b[0m\u001b[1;33m(\u001b[0m\u001b[1;33m)\u001b[0m\u001b[1;33m\u001b[0m\u001b[0m\n",
      "\u001b[1;32m~\\Anaconda\\lib\\site-packages\\urllib3\\util\\retry.py\u001b[0m in \u001b[0;36mincrement\u001b[1;34m(self, method, url, response, error, _pool, _stacktrace)\u001b[0m\n\u001b[0;32m    397\u001b[0m         \u001b[1;32mif\u001b[0m \u001b[0mnew_retry\u001b[0m\u001b[1;33m.\u001b[0m\u001b[0mis_exhausted\u001b[0m\u001b[1;33m(\u001b[0m\u001b[1;33m)\u001b[0m\u001b[1;33m:\u001b[0m\u001b[1;33m\u001b[0m\u001b[0m\n\u001b[1;32m--> 398\u001b[1;33m             \u001b[1;32mraise\u001b[0m \u001b[0mMaxRetryError\u001b[0m\u001b[1;33m(\u001b[0m\u001b[0m_pool\u001b[0m\u001b[1;33m,\u001b[0m \u001b[0murl\u001b[0m\u001b[1;33m,\u001b[0m \u001b[0merror\u001b[0m \u001b[1;32mor\u001b[0m \u001b[0mResponseError\u001b[0m\u001b[1;33m(\u001b[0m\u001b[0mcause\u001b[0m\u001b[1;33m)\u001b[0m\u001b[1;33m)\u001b[0m\u001b[1;33m\u001b[0m\u001b[0m\n\u001b[0m\u001b[0;32m    399\u001b[0m \u001b[1;33m\u001b[0m\u001b[0m\n",
      "\u001b[1;31mMaxRetryError\u001b[0m: HTTPConnectionPool(host='localhost', port=5000): Max retries exceeded with url: /api/v1/courses/all (Caused by NewConnectionError('<urllib3.connection.HTTPConnection object at 0x0000021747664588>: Failed to establish a new connection: [WinError 10061] No connection could be made because the target machine actively refused it'))",
      "\nDuring handling of the above exception, another exception occurred:\n",
      "\u001b[1;31mConnectionError\u001b[0m                           Traceback (most recent call last)",
      "\u001b[1;32m<ipython-input-83-57d6ca810397>\u001b[0m in \u001b[0;36m<module>\u001b[1;34m()\u001b[0m\n\u001b[0;32m      2\u001b[0m \u001b[1;33m\u001b[0m\u001b[0m\n\u001b[0;32m      3\u001b[0m \u001b[0murl\u001b[0m \u001b[1;33m=\u001b[0m \u001b[1;34m\"http://localhost:5000/api/v1/courses/all\"\u001b[0m\u001b[1;33m\u001b[0m\u001b[0m\n\u001b[1;32m----> 4\u001b[1;33m \u001b[0mcourses\u001b[0m \u001b[1;33m=\u001b[0m \u001b[0mrequests\u001b[0m\u001b[1;33m.\u001b[0m\u001b[0mget\u001b[0m\u001b[1;33m(\u001b[0m\u001b[0murl\u001b[0m\u001b[1;33m)\u001b[0m\u001b[1;33m\u001b[0m\u001b[0m\n\u001b[0m\u001b[0;32m      5\u001b[0m \u001b[0mcourses_json\u001b[0m  \u001b[1;33m=\u001b[0m \u001b[0mcourses\u001b[0m\u001b[1;33m.\u001b[0m\u001b[0mjson\u001b[0m\u001b[1;33m(\u001b[0m\u001b[1;33m)\u001b[0m\u001b[1;33m\u001b[0m\u001b[0m\n\u001b[0;32m      6\u001b[0m \u001b[1;33m\u001b[0m\u001b[0m\n",
      "\u001b[1;32m~\\Anaconda\\lib\\site-packages\\requests\\api.py\u001b[0m in \u001b[0;36mget\u001b[1;34m(url, params, **kwargs)\u001b[0m\n\u001b[0;32m     70\u001b[0m \u001b[1;33m\u001b[0m\u001b[0m\n\u001b[0;32m     71\u001b[0m     \u001b[0mkwargs\u001b[0m\u001b[1;33m.\u001b[0m\u001b[0msetdefault\u001b[0m\u001b[1;33m(\u001b[0m\u001b[1;34m'allow_redirects'\u001b[0m\u001b[1;33m,\u001b[0m \u001b[1;32mTrue\u001b[0m\u001b[1;33m)\u001b[0m\u001b[1;33m\u001b[0m\u001b[0m\n\u001b[1;32m---> 72\u001b[1;33m     \u001b[1;32mreturn\u001b[0m \u001b[0mrequest\u001b[0m\u001b[1;33m(\u001b[0m\u001b[1;34m'get'\u001b[0m\u001b[1;33m,\u001b[0m \u001b[0murl\u001b[0m\u001b[1;33m,\u001b[0m \u001b[0mparams\u001b[0m\u001b[1;33m=\u001b[0m\u001b[0mparams\u001b[0m\u001b[1;33m,\u001b[0m \u001b[1;33m**\u001b[0m\u001b[0mkwargs\u001b[0m\u001b[1;33m)\u001b[0m\u001b[1;33m\u001b[0m\u001b[0m\n\u001b[0m\u001b[0;32m     73\u001b[0m \u001b[1;33m\u001b[0m\u001b[0m\n\u001b[0;32m     74\u001b[0m \u001b[1;33m\u001b[0m\u001b[0m\n",
      "\u001b[1;32m~\\Anaconda\\lib\\site-packages\\requests\\api.py\u001b[0m in \u001b[0;36mrequest\u001b[1;34m(method, url, **kwargs)\u001b[0m\n\u001b[0;32m     56\u001b[0m     \u001b[1;31m# cases, and look like a memory leak in others.\u001b[0m\u001b[1;33m\u001b[0m\u001b[1;33m\u001b[0m\u001b[0m\n\u001b[0;32m     57\u001b[0m     \u001b[1;32mwith\u001b[0m \u001b[0msessions\u001b[0m\u001b[1;33m.\u001b[0m\u001b[0mSession\u001b[0m\u001b[1;33m(\u001b[0m\u001b[1;33m)\u001b[0m \u001b[1;32mas\u001b[0m \u001b[0msession\u001b[0m\u001b[1;33m:\u001b[0m\u001b[1;33m\u001b[0m\u001b[0m\n\u001b[1;32m---> 58\u001b[1;33m         \u001b[1;32mreturn\u001b[0m \u001b[0msession\u001b[0m\u001b[1;33m.\u001b[0m\u001b[0mrequest\u001b[0m\u001b[1;33m(\u001b[0m\u001b[0mmethod\u001b[0m\u001b[1;33m=\u001b[0m\u001b[0mmethod\u001b[0m\u001b[1;33m,\u001b[0m \u001b[0murl\u001b[0m\u001b[1;33m=\u001b[0m\u001b[0murl\u001b[0m\u001b[1;33m,\u001b[0m \u001b[1;33m**\u001b[0m\u001b[0mkwargs\u001b[0m\u001b[1;33m)\u001b[0m\u001b[1;33m\u001b[0m\u001b[0m\n\u001b[0m\u001b[0;32m     59\u001b[0m \u001b[1;33m\u001b[0m\u001b[0m\n\u001b[0;32m     60\u001b[0m \u001b[1;33m\u001b[0m\u001b[0m\n",
      "\u001b[1;32m~\\Anaconda\\lib\\site-packages\\requests\\sessions.py\u001b[0m in \u001b[0;36mrequest\u001b[1;34m(self, method, url, params, data, headers, cookies, files, auth, timeout, allow_redirects, proxies, hooks, stream, verify, cert, json)\u001b[0m\n\u001b[0;32m    510\u001b[0m         }\n\u001b[0;32m    511\u001b[0m         \u001b[0msend_kwargs\u001b[0m\u001b[1;33m.\u001b[0m\u001b[0mupdate\u001b[0m\u001b[1;33m(\u001b[0m\u001b[0msettings\u001b[0m\u001b[1;33m)\u001b[0m\u001b[1;33m\u001b[0m\u001b[0m\n\u001b[1;32m--> 512\u001b[1;33m         \u001b[0mresp\u001b[0m \u001b[1;33m=\u001b[0m \u001b[0mself\u001b[0m\u001b[1;33m.\u001b[0m\u001b[0msend\u001b[0m\u001b[1;33m(\u001b[0m\u001b[0mprep\u001b[0m\u001b[1;33m,\u001b[0m \u001b[1;33m**\u001b[0m\u001b[0msend_kwargs\u001b[0m\u001b[1;33m)\u001b[0m\u001b[1;33m\u001b[0m\u001b[0m\n\u001b[0m\u001b[0;32m    513\u001b[0m \u001b[1;33m\u001b[0m\u001b[0m\n\u001b[0;32m    514\u001b[0m         \u001b[1;32mreturn\u001b[0m \u001b[0mresp\u001b[0m\u001b[1;33m\u001b[0m\u001b[0m\n",
      "\u001b[1;32m~\\Anaconda\\lib\\site-packages\\requests\\sessions.py\u001b[0m in \u001b[0;36msend\u001b[1;34m(self, request, **kwargs)\u001b[0m\n\u001b[0;32m    620\u001b[0m \u001b[1;33m\u001b[0m\u001b[0m\n\u001b[0;32m    621\u001b[0m         \u001b[1;31m# Send the request\u001b[0m\u001b[1;33m\u001b[0m\u001b[1;33m\u001b[0m\u001b[0m\n\u001b[1;32m--> 622\u001b[1;33m         \u001b[0mr\u001b[0m \u001b[1;33m=\u001b[0m \u001b[0madapter\u001b[0m\u001b[1;33m.\u001b[0m\u001b[0msend\u001b[0m\u001b[1;33m(\u001b[0m\u001b[0mrequest\u001b[0m\u001b[1;33m,\u001b[0m \u001b[1;33m**\u001b[0m\u001b[0mkwargs\u001b[0m\u001b[1;33m)\u001b[0m\u001b[1;33m\u001b[0m\u001b[0m\n\u001b[0m\u001b[0;32m    623\u001b[0m \u001b[1;33m\u001b[0m\u001b[0m\n\u001b[0;32m    624\u001b[0m         \u001b[1;31m# Total elapsed time of the request (approximately)\u001b[0m\u001b[1;33m\u001b[0m\u001b[1;33m\u001b[0m\u001b[0m\n",
      "\u001b[1;32m~\\Anaconda\\lib\\site-packages\\requests\\adapters.py\u001b[0m in \u001b[0;36msend\u001b[1;34m(self, request, stream, timeout, verify, cert, proxies)\u001b[0m\n\u001b[0;32m    511\u001b[0m                 \u001b[1;32mraise\u001b[0m \u001b[0mSSLError\u001b[0m\u001b[1;33m(\u001b[0m\u001b[0me\u001b[0m\u001b[1;33m,\u001b[0m \u001b[0mrequest\u001b[0m\u001b[1;33m=\u001b[0m\u001b[0mrequest\u001b[0m\u001b[1;33m)\u001b[0m\u001b[1;33m\u001b[0m\u001b[0m\n\u001b[0;32m    512\u001b[0m \u001b[1;33m\u001b[0m\u001b[0m\n\u001b[1;32m--> 513\u001b[1;33m             \u001b[1;32mraise\u001b[0m \u001b[0mConnectionError\u001b[0m\u001b[1;33m(\u001b[0m\u001b[0me\u001b[0m\u001b[1;33m,\u001b[0m \u001b[0mrequest\u001b[0m\u001b[1;33m=\u001b[0m\u001b[0mrequest\u001b[0m\u001b[1;33m)\u001b[0m\u001b[1;33m\u001b[0m\u001b[0m\n\u001b[0m\u001b[0;32m    514\u001b[0m \u001b[1;33m\u001b[0m\u001b[0m\n\u001b[0;32m    515\u001b[0m         \u001b[1;32mexcept\u001b[0m \u001b[0mClosedPoolError\u001b[0m \u001b[1;32mas\u001b[0m \u001b[0me\u001b[0m\u001b[1;33m:\u001b[0m\u001b[1;33m\u001b[0m\u001b[0m\n",
      "\u001b[1;31mConnectionError\u001b[0m: HTTPConnectionPool(host='localhost', port=5000): Max retries exceeded with url: /api/v1/courses/all (Caused by NewConnectionError('<urllib3.connection.HTTPConnection object at 0x0000021747664588>: Failed to establish a new connection: [WinError 10061] No connection could be made because the target machine actively refused it'))"
     ]
    }
   ],
   "source": [
    "# TODO\n",
    "url = \"http://localhost:5000/api/v1/courses/all\"\n",
    "courses = requests.get(url)\n",
    "courses_json  = courses.json()\n",
    "\n",
    "for p in courses_json:\n",
    "    print(p['title'])\n"
   ]
  },
  {
   "cell_type": "markdown",
   "metadata": {},
   "source": [
    "* Add the possibility to find courses based on the semester\n",
    "* Use your API in Python and print all names of all courses in the second semester"
   ]
  },
  {
   "cell_type": "code",
   "execution_count": null,
   "metadata": {},
   "outputs": [],
   "source": [
    "#print all names of all courses in the second semester\n",
    "url = \"http://localhost:5000/api/v1/courses/all/?semester=2\"\n",
    "courses = requests.get(url)\n",
    "courses_json  = courses.json()\n",
    "\n",
    "for p in courses_json:\n",
    "    print(p['title'])"
   ]
  },
  {
   "cell_type": "code",
   "execution_count": 81,
   "metadata": {},
   "outputs": [],
   "source": []
  },
  {
   "cell_type": "markdown",
   "metadata": {},
   "source": [
    "* Add a function that can convert Fahrenheit to Celsius \n",
    "* Call your API and get the Celsius value for 100°F Fahrenheit"
   ]
  },
  {
   "cell_type": "code",
   "execution_count": null,
   "metadata": {
    "collapsed": true
   },
   "outputs": [],
   "source": [
    "# TODO\n",
    "def converter():\n",
    "\n",
    "    Fahrenheit = int(raw_input(\"Enter a temperature in Fahrenheit: \"))\n",
    "    Celsius = (Fahrenheit - 32) * 5.0/9.0\n",
    "\n",
    "    return print(\"Temperature:\", Fahrenheit, \"Fahrenheit = \", Celsius, \" C\")\n"
   ]
  }
 ],
 "metadata": {
  "kernelspec": {
   "display_name": "Python 3",
   "language": "python",
   "name": "python3"
  },
  "language_info": {
   "codemirror_mode": {
    "name": "ipython",
    "version": 3
   },
   "file_extension": ".py",
   "mimetype": "text/x-python",
   "name": "python",
   "nbconvert_exporter": "python",
   "pygments_lexer": "ipython3",
   "version": "3.7.0"
  },
  "varInspector": {
   "cols": {
    "lenName": 16,
    "lenType": 16,
    "lenVar": 40
   },
   "kernels_config": {
    "python": {
     "delete_cmd_postfix": "",
     "delete_cmd_prefix": "del ",
     "library": "var_list.py",
     "varRefreshCmd": "print(var_dic_list())"
    },
    "r": {
     "delete_cmd_postfix": ") ",
     "delete_cmd_prefix": "rm(",
     "library": "var_list.r",
     "varRefreshCmd": "cat(var_dic_list()) "
    }
   },
   "types_to_exclude": [
    "module",
    "function",
    "builtin_function_or_method",
    "instance",
    "_Feature"
   ],
   "window_display": false
  }
 },
 "nbformat": 4,
 "nbformat_minor": 2
}
